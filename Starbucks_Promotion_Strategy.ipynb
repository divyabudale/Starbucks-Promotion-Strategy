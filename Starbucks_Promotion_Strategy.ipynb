{
 "cells": [
  {
   "cell_type": "markdown",
   "metadata": {},
   "source": [
    "# Starbucks Promotion Strategy"
   ]
  },
  {
   "cell_type": "markdown",
   "metadata": {},
   "source": [
    "Table of Contents\n",
    "\n",
    "- [Background Information](#Background-Information)\n",
    "- [Part 1 - Invariant-Metrics](#Part-1-Hypothesis-testing-for-Invariant-Metrics-(Number-of-participants-in-each-group))\n",
    "- [Part 2 - Net Incremental Revenue](#Part-2-Hypothesis-testing-for-NIR-Value)\n",
    "- [Part 3 - Incremental Response Value](#Part-3-Hypothesis-testing-for-IRR-Value)\n",
    "- [Part 4 - Model Creation](#Part-4-Modelling)"
   ]
  },
  {
   "cell_type": "markdown",
   "metadata": {},
   "source": [
    "## Background Information\n",
    "\n",
    "This dataset was originally used as a take-home assignment provided by Starbucks for their job candidates. The data for this exercise consists of about 120,000 data points split in a 2:1 ratio among training and test files. In the experiment simulated by the data, an advertising promotion was tested to see if it would bring more customers to purchase a specific product priced at $10. Since it costs the company 0.15 to send out each promotion, it would be best to limit that promotion only to those that are most receptive to the promotion. Each data point includes one column indicating whether or not an individual was sent a promotion for the product, and one column indicating whether or not that individual eventually purchased that product. Each individual also has seven additional features associated with them, which are provided abstractly as V1-V7.\n",
    "    \n",
    "### Optimization Strategy\n",
    "Our task is to use the training data to understand what patterns in V1-V7 to indicate that a promotion should be provided to a user. Specifically, the goal is to maximize the following metrics:\n",
    "    \n",
    "> Incremental Response Rate (IRR)\n",
    "IRR depicts how many more customers purchased the product with the promotion, as compared to if they didn't receive the promotion. Mathematically, it's the ratio of the number of purchasers in the promotion group to the total number of customers in the purchasers group (treatment) minus the ratio of the number of purchasers in the non-promotional group to the total number of customers in the non-promotional group (control).\n",
    "\n",
    "$$ IRR = \\frac{purch_{treat}}{cust_{treat}} - \\frac{purch_{ctrl}}{cust_{ctrl}} $$\n",
    "\n",
    "\n",
    "> Net Incremental Revenue (NIR)\n",
    "NIR depicts how much is made (or lost) by sending out the promotion. Mathematically, this is 10 times the total number of purchasers that received the promotion minus 0.15 times the number of promotions sent out, minus 10 times the number of purchasers who were not given the promotion.\n",
    "\n",
    "$$ NIR = (10\\cdot purch_{treat} - 0.15 \\cdot cust_{treat}) - 10 \\cdot purch_{ctrl}$$\n",
    "\n",
    "\n"
   ]
  },
  {
   "cell_type": "code",
   "execution_count": 1,
   "metadata": {},
   "outputs": [
    {
     "name": "stderr",
     "output_type": "stream",
     "text": [
      "C:\\Users\\divya\\AppData\\Roaming\\Python\\Python36\\site-packages\\sklearn\\externals\\six.py:31: DeprecationWarning: The module is deprecated in version 0.21 and will be removed in version 0.23 since we've dropped support for Python 2.7. Please rely on the official version of six (https://pypi.org/project/six/).\n",
      "  \"(https://pypi.org/project/six/).\", DeprecationWarning)\n"
     ]
    }
   ],
   "source": [
    "import pandas as pd\n",
    "import numpy as np\n",
    "import matplotlib.pyplot as plt\n",
    "import scipy.stats as stats\n",
    "from sklearn.model_selection import train_test_split\n",
    "from sklearn.ensemble import RandomForestClassifier\n",
    "from xgboost.sklearn import XGBClassifier\n",
    "from sklearn import preprocessing\n",
    "from sklearn.metrics import confusion_matrix, accuracy_score, classification_report\n",
    "import seaborn as sns\n",
    "from imblearn.over_sampling import SMOTE\n",
    "from sklearn.metrics import f1_score\n",
    "\n",
    "from test_results import test_results"
   ]
  },
  {
   "cell_type": "code",
   "execution_count": 2,
   "metadata": {},
   "outputs": [
    {
     "data": {
      "text/html": [
       "<div>\n",
       "<style scoped>\n",
       "    .dataframe tbody tr th:only-of-type {\n",
       "        vertical-align: middle;\n",
       "    }\n",
       "\n",
       "    .dataframe tbody tr th {\n",
       "        vertical-align: top;\n",
       "    }\n",
       "\n",
       "    .dataframe thead th {\n",
       "        text-align: right;\n",
       "    }\n",
       "</style>\n",
       "<table border=\"1\" class=\"dataframe\">\n",
       "  <thead>\n",
       "    <tr style=\"text-align: right;\">\n",
       "      <th></th>\n",
       "      <th>ID</th>\n",
       "      <th>Promotion</th>\n",
       "      <th>purchase</th>\n",
       "      <th>V1</th>\n",
       "      <th>V2</th>\n",
       "      <th>V3</th>\n",
       "      <th>V4</th>\n",
       "      <th>V5</th>\n",
       "      <th>V6</th>\n",
       "      <th>V7</th>\n",
       "    </tr>\n",
       "  </thead>\n",
       "  <tbody>\n",
       "    <tr>\n",
       "      <th>0</th>\n",
       "      <td>1</td>\n",
       "      <td>No</td>\n",
       "      <td>0</td>\n",
       "      <td>2</td>\n",
       "      <td>30.443518</td>\n",
       "      <td>-1.165083</td>\n",
       "      <td>1</td>\n",
       "      <td>1</td>\n",
       "      <td>3</td>\n",
       "      <td>2</td>\n",
       "    </tr>\n",
       "    <tr>\n",
       "      <th>1</th>\n",
       "      <td>3</td>\n",
       "      <td>No</td>\n",
       "      <td>0</td>\n",
       "      <td>3</td>\n",
       "      <td>32.159350</td>\n",
       "      <td>-0.645617</td>\n",
       "      <td>2</td>\n",
       "      <td>3</td>\n",
       "      <td>2</td>\n",
       "      <td>2</td>\n",
       "    </tr>\n",
       "    <tr>\n",
       "      <th>2</th>\n",
       "      <td>4</td>\n",
       "      <td>No</td>\n",
       "      <td>0</td>\n",
       "      <td>2</td>\n",
       "      <td>30.431659</td>\n",
       "      <td>0.133583</td>\n",
       "      <td>1</td>\n",
       "      <td>1</td>\n",
       "      <td>4</td>\n",
       "      <td>2</td>\n",
       "    </tr>\n",
       "    <tr>\n",
       "      <th>3</th>\n",
       "      <td>5</td>\n",
       "      <td>No</td>\n",
       "      <td>0</td>\n",
       "      <td>0</td>\n",
       "      <td>26.588914</td>\n",
       "      <td>-0.212728</td>\n",
       "      <td>2</td>\n",
       "      <td>1</td>\n",
       "      <td>4</td>\n",
       "      <td>2</td>\n",
       "    </tr>\n",
       "    <tr>\n",
       "      <th>4</th>\n",
       "      <td>8</td>\n",
       "      <td>Yes</td>\n",
       "      <td>0</td>\n",
       "      <td>3</td>\n",
       "      <td>28.044332</td>\n",
       "      <td>-0.385883</td>\n",
       "      <td>1</td>\n",
       "      <td>1</td>\n",
       "      <td>2</td>\n",
       "      <td>2</td>\n",
       "    </tr>\n",
       "  </tbody>\n",
       "</table>\n",
       "</div>"
      ],
      "text/plain": [
       "   ID Promotion  purchase  V1         V2        V3  V4  V5  V6  V7\n",
       "0   1        No         0   2  30.443518 -1.165083   1   1   3   2\n",
       "1   3        No         0   3  32.159350 -0.645617   2   3   2   2\n",
       "2   4        No         0   2  30.431659  0.133583   1   1   4   2\n",
       "3   5        No         0   0  26.588914 -0.212728   2   1   4   2\n",
       "4   8       Yes         0   3  28.044332 -0.385883   1   1   2   2"
      ]
     },
     "execution_count": 2,
     "metadata": {},
     "output_type": "execute_result"
    }
   ],
   "source": [
    "# load in the data\n",
    "train = pd.read_csv('C:/Users/divya/Downloads/Starbucks/training.csv')\n",
    "train.head()"
   ]
  },
  {
   "cell_type": "code",
   "execution_count": 3,
   "metadata": {},
   "outputs": [
    {
     "data": {
      "text/plain": [
       "(84534, 10)"
      ]
     },
     "execution_count": 3,
     "metadata": {},
     "output_type": "execute_result"
    }
   ],
   "source": [
    "train.shape"
   ]
  },
  {
   "cell_type": "code",
   "execution_count": 4,
   "metadata": {},
   "outputs": [
    {
     "data": {
      "text/plain": [
       "Yes    42364\n",
       "No     42170\n",
       "Name: Promotion, dtype: int64"
      ]
     },
     "execution_count": 4,
     "metadata": {},
     "output_type": "execute_result"
    }
   ],
   "source": [
    "train.Promotion.value_counts()"
   ]
  },
  {
   "cell_type": "code",
   "execution_count": 5,
   "metadata": {},
   "outputs": [
    {
     "data": {
      "text/plain": [
       "0    83494\n",
       "1     1040\n",
       "Name: purchase, dtype: int64"
      ]
     },
     "execution_count": 5,
     "metadata": {},
     "output_type": "execute_result"
    }
   ],
   "source": [
    "train.purchase.value_counts()"
   ]
  },
  {
   "cell_type": "code",
   "execution_count": 6,
   "metadata": {},
   "outputs": [
    {
     "data": {
      "text/html": [
       "<div>\n",
       "<style scoped>\n",
       "    .dataframe tbody tr th:only-of-type {\n",
       "        vertical-align: middle;\n",
       "    }\n",
       "\n",
       "    .dataframe tbody tr th {\n",
       "        vertical-align: top;\n",
       "    }\n",
       "\n",
       "    .dataframe thead th {\n",
       "        text-align: right;\n",
       "    }\n",
       "</style>\n",
       "<table border=\"1\" class=\"dataframe\">\n",
       "  <thead>\n",
       "    <tr style=\"text-align: right;\">\n",
       "      <th></th>\n",
       "      <th></th>\n",
       "      <th>purchase_count</th>\n",
       "    </tr>\n",
       "    <tr>\n",
       "      <th>Promotion</th>\n",
       "      <th>purchase</th>\n",
       "      <th></th>\n",
       "    </tr>\n",
       "  </thead>\n",
       "  <tbody>\n",
       "    <tr>\n",
       "      <th rowspan=\"2\" valign=\"top\">No</th>\n",
       "      <th>0</th>\n",
       "      <td>41851</td>\n",
       "    </tr>\n",
       "    <tr>\n",
       "      <th>1</th>\n",
       "      <td>319</td>\n",
       "    </tr>\n",
       "    <tr>\n",
       "      <th rowspan=\"2\" valign=\"top\">Yes</th>\n",
       "      <th>0</th>\n",
       "      <td>41643</td>\n",
       "    </tr>\n",
       "    <tr>\n",
       "      <th>1</th>\n",
       "      <td>721</td>\n",
       "    </tr>\n",
       "  </tbody>\n",
       "</table>\n",
       "</div>"
      ],
      "text/plain": [
       "                    purchase_count\n",
       "Promotion purchase                \n",
       "No        0                  41851\n",
       "          1                    319\n",
       "Yes       0                  41643\n",
       "          1                    721"
      ]
     },
     "execution_count": 6,
     "metadata": {},
     "output_type": "execute_result"
    }
   ],
   "source": [
    "train.groupby(['Promotion','purchase'])['purchase'].count().to_frame().rename(columns={'purchase':'purchase_count'})"
   ]
  },
  {
   "cell_type": "markdown",
   "metadata": {},
   "source": [
    "# Part 1 - Hypothesis testing for Invariant Metrics (Number of participants in each group)"
   ]
  },
  {
   "cell_type": "markdown",
   "metadata": {},
   "source": [
    "My first step will be to analyze the  invariant metric of number of participants in our control and experiment (one who received the promottion).\n",
    "\n",
    "Hypothesis:\n",
    "> Null hypothesis : The number of participants in control and experiment group is same\n",
    "\n",
    "> Alternate hypothesis : The number of participants in control and experiment group is different\n",
    "    \n",
    "⍺ = 0.05"
   ]
  },
  {
   "cell_type": "code",
   "execution_count": 7,
   "metadata": {},
   "outputs": [],
   "source": [
    "#Invariant Metrics - Number of participants in each group"
   ]
  },
  {
   "cell_type": "code",
   "execution_count": 8,
   "metadata": {},
   "outputs": [
    {
     "name": "stdout",
     "output_type": "stream",
     "text": [
      "Number of customers who received the promotions : 42364 and the number who did not receive the promotions : 42170\n"
     ]
    }
   ],
   "source": [
    "print('Number of customers who received the promotions : {} and the number who did not receive the promotions : {}'.format(train[train['Promotion']=='Yes'].shape[0], train[train['Promotion']=='No'].shape[0]))"
   ]
  },
  {
   "cell_type": "code",
   "execution_count": 9,
   "metadata": {},
   "outputs": [
    {
     "data": {
      "text/plain": [
       "(42170, 42364, 84534)"
      ]
     },
     "execution_count": 9,
     "metadata": {},
     "output_type": "execute_result"
    }
   ],
   "source": [
    "n_treatment = train[train['Promotion']=='Yes'].shape[0]\n",
    "n_control = train[train['Promotion']=='No'].shape[0]\n",
    "n_control, n_treatment, train.shape[0]"
   ]
  },
  {
   "cell_type": "code",
   "execution_count": 10,
   "metadata": {},
   "outputs": [
    {
     "name": "stdout",
     "output_type": "stream",
     "text": [
      "Average of Promotion     : 0.5011474672912675\n",
      "Average of Non Promotion : 0.4988525327087326\n",
      "Sample of Difference     : 0.00229493458253488\n"
     ]
    }
   ],
   "source": [
    "promotion_rate = train[train['Promotion']=='Yes'].shape[0]/train.shape[0]\n",
    "non_promotion_rate = train[train['Promotion']=='No'].shape[0]/train.shape[0]\n",
    "rate_difference = promotion_rate - non_promotion_rate\n",
    "\n",
    "print('Average of Promotion     :',promotion_rate)\n",
    "print('Average of Non Promotion :',non_promotion_rate)\n",
    "print('Sample of Difference     :',rate_difference)"
   ]
  },
  {
   "cell_type": "code",
   "execution_count": 11,
   "metadata": {},
   "outputs": [],
   "source": [
    "#N1 = n_control\n",
    "#N2 = n_obs\n",
    "\n",
    "me_treatment = np.sqrt(promotion_rate/n_treatment)*1.96\n",
    "me_control = np.sqrt(non_promotion_rate/n_control)*1.96\n",
    "\n",
    "#calc = (promotion_rate/train.shape[0]) + (non_promotion_rate/train.shape[0])\n",
    "margin_error = np.sqrt(me_treatment*me_treatment + me_control*me_control)\n",
    "sd = margin_error/1.96\n",
    "Z = rate_difference/sd\n",
    "p_values = stats.norm.sf(abs(Z))*2"
   ]
  },
  {
   "cell_type": "code",
   "execution_count": 12,
   "metadata": {},
   "outputs": [
    {
     "data": {
      "text/plain": [
       "0.6370594028613561"
      ]
     },
     "execution_count": 12,
     "metadata": {},
     "output_type": "execute_result"
    }
   ],
   "source": [
    "p_values"
   ]
  },
  {
   "cell_type": "markdown",
   "metadata": {},
   "source": [
    "Computed P value (p_val=0.637 > ⍺=0.05) and therefore we fail to reject the null hypothesis. \n",
    "\n",
    "This implies that there is no statistical signifigance in the difference of our sampling populations. "
   ]
  },
  {
   "cell_type": "markdown",
   "metadata": {},
   "source": [
    "# Part 2 - Hypothesis testing for NIR Value"
   ]
  },
  {
   "cell_type": "markdown",
   "metadata": {},
   "source": [
    "In this part we will analyze the NIR i.e Net Incremental Value. NIR depicts how much is made (or lost) by sending out \n",
    "the promotion. \n",
    "\n",
    "Hypothesis:\n",
    "> Null hypothesis : NetIncrementalRevenue = 0 \n",
    "\n",
    "> Alternate hypothesis : NetIncrementalRevenue > 0 \n",
    "    \n",
    "\n",
    "Our Alpha value with the Bonferroni Correction:\n",
    "    $$Bonferroni Correction = \\frac{\\alpha}{number-of-measures} = 0.025$$\n",
    "    \n",
    "where $$ NIR = (10\\cdot purch_{treat} - 0.15 \\cdot cust_{treat}) - 10 \\cdot purch_{ctrl}$$"
   ]
  },
  {
   "cell_type": "code",
   "execution_count": 13,
   "metadata": {},
   "outputs": [
    {
     "data": {
      "text/plain": [
       "-2334.5999999999995"
      ]
     },
     "execution_count": 13,
     "metadata": {},
     "output_type": "execute_result"
    }
   ],
   "source": [
    "# Finding our observed statistic \n",
    "purchase_treatment = train[train['Promotion'] == \"Yes\"].purchase.sum()\n",
    "customer_treatment = train[train['Promotion'] == \"Yes\"].shape[0]\n",
    "purchase_control = train[train['Promotion'] == \"No\"].purchase.sum()\n",
    "customer_control = train[train['Promotion'] == \"No\"].shape[0]\n",
    "NIR = ((10 * purchase_treatment) - (0.15 * customer_treatment)) - (10 * purchase_control)\n",
    "NIR"
   ]
  },
  {
   "cell_type": "code",
   "execution_count": 14,
   "metadata": {},
   "outputs": [],
   "source": [
    "# Bootstraping our differences to get a model of the distribution for our null\n",
    "\n",
    "NIRs = []\n",
    "p_treatment = []\n",
    "c_treatment = []\n",
    "p_control = []\n",
    "c_control = []\n",
    "for _ in range(10000):\n",
    "    bootstrap = train.sample(10000, replace=True)\n",
    "    \n",
    "    purchase_treatment = bootstrap[bootstrap['Promotion'] == \"Yes\"].purchase.sum()\n",
    "    customer_treatment =  bootstrap[ bootstrap['Promotion'] == \"Yes\"].shape[0]\n",
    "    \n",
    "    purchase_control =  bootstrap[ bootstrap['Promotion'] == \"No\"].purchase.sum()\n",
    "    customer_control =  bootstrap[ bootstrap['Promotion'] == \"No\"].shape[0]\n",
    "    \n",
    "    NIRs.append(((10 * purchase_treatment) - (0.15 * customer_treatment)) - (10 * purchase_control))\n",
    "    p_treatment.append(purchase_treatment)\n",
    "    c_treatment.append(customer_treatment)\n",
    "    p_control.append(purchase_control)\n",
    "    c_control.append(customer_control)"
   ]
  },
  {
   "cell_type": "code",
   "execution_count": 15,
   "metadata": {},
   "outputs": [
    {
     "data": {
      "image/png": "[encoded data removed]",
      "text/plain": [
       "<Figure size 432x288 with 1 Axes>"
      ]
     },
     "metadata": {
      "needs_background": "light"
     },
     "output_type": "display_data"
    }
   ],
   "source": [
    "#confirming the normal ditribution of treatment and control with bootstrapping\n",
    "plt.hist(p_treatment, alpha=0.5);\n",
    "plt.hist(p_control, alpha=0.5);"
   ]
  },
  {
   "cell_type": "code",
   "execution_count": 16,
   "metadata": {},
   "outputs": [
    {
     "data": {
      "image/png": "[encoded data removed]",
      "text/plain": [
       "<Figure size 432x288 with 1 Axes>"
      ]
     },
     "metadata": {
      "needs_background": "light"
     },
     "output_type": "display_data"
    }
   ],
   "source": [
    "#confirming the normal ditribution of NIR with bootstrapping\n",
    "plt.hist(NIRs, alpha=0.5);"
   ]
  },
  {
   "cell_type": "code",
   "execution_count": 17,
   "metadata": {},
   "outputs": [
    {
     "data": {
      "image/png": "[encoded data removed]",
      "text/plain": [
       "<Figure size 432x288 with 1 Axes>"
      ]
     },
     "metadata": {
      "needs_background": "light"
     },
     "output_type": "display_data"
    }
   ],
   "source": [
    "#samples for null hypothesis\n",
    "null_val = np.random.normal(0, np.std(NIRs), 10000)\n",
    "plt.hist(null_val);"
   ]
  },
  {
   "cell_type": "code",
   "execution_count": 18,
   "metadata": {},
   "outputs": [
    {
     "data": {
      "text/plain": [
       "0.0375"
      ]
     },
     "execution_count": 18,
     "metadata": {},
     "output_type": "execute_result"
    }
   ],
   "source": [
    "(NIRs > null_val).mean()"
   ]
  },
  {
   "cell_type": "code",
   "execution_count": 19,
   "metadata": {},
   "outputs": [
    {
     "data": {
      "text/plain": [
       "0.9625"
      ]
     },
     "execution_count": 19,
     "metadata": {},
     "output_type": "execute_result"
    }
   ],
   "source": [
    "(NIRs < null_val).mean()"
   ]
  },
  {
   "cell_type": "markdown",
   "metadata": {},
   "source": [
    "Our P value (p_val_NIR=0.0375 > ⍺=0.025)  and  therefore we fail to reject our null hypothesis. \n",
    "This implies that there is no statistical signifigant increase in NIR (what we want to optimise). \n",
    "\n",
    "However, our data indicates we signifigantly REDUCED the NIR with this campaign. Not what we want..."
   ]
  },
  {
   "cell_type": "code",
   "execution_count": 20,
   "metadata": {},
   "outputs": [
    {
     "data": {
      "text/plain": [
       "1.0"
      ]
     },
     "execution_count": 20,
     "metadata": {},
     "output_type": "execute_result"
    }
   ],
   "source": [
    "(NIRs!= null_val).mean()"
   ]
  },
  {
   "cell_type": "markdown",
   "metadata": {},
   "source": [
    "If you recall, the p-value is in between 0 and 1. \n",
    "The higher the p-value, the more likely that we fail to reject the null hypothesis. \n",
    "In this example, we got a 1.0, which means that our null is correct: No increase in NIR"
   ]
  },
  {
   "cell_type": "markdown",
   "metadata": {},
   "source": [
    "# Part 3 - Hypothesis testing for IRR Value"
   ]
  },
  {
   "cell_type": "markdown",
   "metadata": {},
   "source": [
    "In this part we will analyze the IRR i.e Incremental Response Value. IRR depicts how many more customers purchased the \n",
    "product with the promotion, as compared to if they didn't receive the promotion\n",
    "\n",
    "Hypothesis:\n",
    "> Null hypothesis : IncrementalResponseValue = 0 \n",
    "\n",
    "> Alternate hypothesis : IncrementalResponseValue > 0 \n",
    "    \n",
    "\n",
    "Our Alpha value with the Bonferroni Correction:\n",
    "    $$Bonferroni Correction = \\frac{\\alpha}{number-of-measures} = 0.025$$\n",
    "    \n",
    "Where  $$ IRR = \\frac{purch_{treat}}{cust_{treat}} - \\frac{purch_{ctrl}}{cust_{ctrl}} $$\n"
   ]
  },
  {
   "cell_type": "code",
   "execution_count": 21,
   "metadata": {},
   "outputs": [
    {
     "data": {
      "text/plain": [
       "0.009454547819772702"
      ]
     },
     "execution_count": 21,
     "metadata": {},
     "output_type": "execute_result"
    }
   ],
   "source": [
    "# Finding our observed statistic \n",
    "purchase_treatment = train[train['Promotion'] == \"Yes\"].purchase.sum()\n",
    "customer_treatment = train[train['Promotion'] == \"Yes\"].shape[0]\n",
    "purchase_control = train[train['Promotion'] == \"No\"].purchase.sum()\n",
    "customer_control = train[train['Promotion'] == \"No\"].shape[0]\n",
    "IRR = purchase_treatment/customer_treatment - purchase_control/customer_control\n",
    "IRR"
   ]
  },
  {
   "cell_type": "code",
   "execution_count": 22,
   "metadata": {},
   "outputs": [],
   "source": [
    "# Bootstraping our differences to get a model of the distribution for our null\n",
    "IRRs = []\n",
    "p_treatment = []\n",
    "c_treatment = []\n",
    "p_control = []\n",
    "c_control = []\n",
    "for _ in range(5000):\n",
    "    bootstrap = train.sample(5000, replace=True)\n",
    "    \n",
    "    purchase_treatment = bootstrap[bootstrap['Promotion'] == \"Yes\"].purchase.sum()\n",
    "    customer_treatment =  bootstrap[ bootstrap['Promotion'] == \"Yes\"].shape[0]\n",
    "    \n",
    "    purchase_control =  bootstrap[ bootstrap['Promotion'] == \"No\"].purchase.sum()\n",
    "    customer_control =  bootstrap[ bootstrap['Promotion'] == \"No\"].shape[0]\n",
    "    \n",
    "    IRR = purchase_treatment/customer_treatment - purchase_control/customer_control\n",
    "    IRRs.append(IRR)\n",
    "    p_treatment.append(purchase_treatment)\n",
    "    c_treatment.append(customer_treatment)\n",
    "    p_control.append(purchase_control)\n",
    "    c_control.append(customer_control)\n"
   ]
  },
  {
   "cell_type": "code",
   "execution_count": 23,
   "metadata": {},
   "outputs": [
    {
     "data": {
      "image/png": "[encoded data removed]",
      "text/plain": [
       "<Figure size 432x288 with 1 Axes>"
      ]
     },
     "metadata": {
      "needs_background": "light"
     },
     "output_type": "display_data"
    }
   ],
   "source": [
    "#confirming the normal distribution of treatment and control after bootstrapping\n",
    "plt.hist(p_treatment, alpha=0.5);\n",
    "plt.hist(p_control, alpha=0.5);"
   ]
  },
  {
   "cell_type": "code",
   "execution_count": 24,
   "metadata": {},
   "outputs": [
    {
     "data": {
      "image/png": "[encoded data removed]",
      "text/plain": [
       "<Figure size 432x288 with 1 Axes>"
      ]
     },
     "metadata": {
      "needs_background": "light"
     },
     "output_type": "display_data"
    }
   ],
   "source": [
    "#confirming normal ditribution of IRR\n",
    "plt.hist(IRRs, alpha=0.5);"
   ]
  },
  {
   "cell_type": "code",
   "execution_count": 25,
   "metadata": {},
   "outputs": [
    {
     "data": {
      "image/png": "[encoded data removed]",
      "text/plain": [
       "<Figure size 432x288 with 1 Axes>"
      ]
     },
     "metadata": {
      "needs_background": "light"
     },
     "output_type": "display_data"
    }
   ],
   "source": [
    "#samples for null hypothesis\n",
    "null_val = np.random.normal(0, np.std(IRRs), 5000)\n",
    "plt.hist(null_val);"
   ]
  },
  {
   "cell_type": "code",
   "execution_count": 26,
   "metadata": {},
   "outputs": [
    {
     "data": {
      "text/plain": [
       "0.9854"
      ]
     },
     "execution_count": 26,
     "metadata": {},
     "output_type": "execute_result"
    }
   ],
   "source": [
    "(IRRs > null_val).mean()"
   ]
  },
  {
   "cell_type": "code",
   "execution_count": 27,
   "metadata": {},
   "outputs": [
    {
     "data": {
      "text/plain": [
       "0.0146"
      ]
     },
     "execution_count": 27,
     "metadata": {},
     "output_type": "execute_result"
    }
   ],
   "source": [
    "(IRRs < null_val).mean()"
   ]
  },
  {
   "cell_type": "markdown",
   "metadata": {},
   "source": [
    "Our P value (p_val_IIR=0.0146 < ⍺=0.025), and therefore we reject the H0-null hypothesis. \n",
    "This implies that there is a statistical increase in IRR between our control and experiemental group. \n",
    "\n",
    "So, we can see that our campaign does have a positive affect on the number of customers who purchased \n",
    "the product with the promotion, as compared to if they didn't receive the promotion."
   ]
  },
  {
   "cell_type": "markdown",
   "metadata": {},
   "source": [
    "# Part 4 - Modelling"
   ]
  },
  {
   "cell_type": "markdown",
   "metadata": {},
   "source": [
    "Here we shall a model that can accuractely predict if a customer will be responsive to the campaign.\n",
    "\n",
    "We will use the only the data from treatment group and the purchases from the control group for the model creation"
   ]
  },
  {
   "cell_type": "code",
   "execution_count": 28,
   "metadata": {},
   "outputs": [],
   "source": [
    "train_exp = train[train['Promotion']=='Yes']\n",
    "train_ctrl = train[(train['Promotion']=='No')&(train['purchase']==1)]"
   ]
  },
  {
   "cell_type": "code",
   "execution_count": 29,
   "metadata": {},
   "outputs": [
    {
     "data": {
      "text/plain": [
       "0    41643\n",
       "1      721\n",
       "Name: purchase, dtype: int64"
      ]
     },
     "execution_count": 29,
     "metadata": {},
     "output_type": "execute_result"
    }
   ],
   "source": [
    "train_exp['purchase'].value_counts()"
   ]
  },
  {
   "cell_type": "code",
   "execution_count": 30,
   "metadata": {},
   "outputs": [
    {
     "data": {
      "text/plain": [
       "1    319\n",
       "Name: purchase, dtype: int64"
      ]
     },
     "execution_count": 30,
     "metadata": {},
     "output_type": "execute_result"
    }
   ],
   "source": [
    "train_ctrl['purchase'].value_counts()"
   ]
  },
  {
   "cell_type": "code",
   "execution_count": 31,
   "metadata": {},
   "outputs": [
    {
     "data": {
      "text/plain": [
       "(42683, 10)"
      ]
     },
     "execution_count": 31,
     "metadata": {},
     "output_type": "execute_result"
    }
   ],
   "source": [
    "final = pd.concat([train_exp, train_ctrl])\n",
    "final.shape"
   ]
  },
  {
   "cell_type": "code",
   "execution_count": 32,
   "metadata": {},
   "outputs": [
    {
     "data": {
      "text/plain": [
       "0    41643\n",
       "1     1040\n",
       "Name: purchase, dtype: int64"
      ]
     },
     "execution_count": 32,
     "metadata": {},
     "output_type": "execute_result"
    }
   ],
   "source": [
    "final.purchase.value_counts()"
   ]
  },
  {
   "cell_type": "code",
   "execution_count": 33,
   "metadata": {},
   "outputs": [],
   "source": [
    "del train_ctrl, train_exp"
   ]
  },
  {
   "cell_type": "code",
   "execution_count": 34,
   "metadata": {},
   "outputs": [],
   "source": [
    "#dropping the columns\n",
    "drop_cols = ['ID','Promotion']\n",
    "final = final.drop(drop_cols, axis=1)"
   ]
  },
  {
   "cell_type": "code",
   "execution_count": 35,
   "metadata": {},
   "outputs": [],
   "source": [
    "#separate the target column\n",
    "X = final.drop(['purchase'], axis=1)\n",
    "y = final['purchase']"
   ]
  },
  {
   "cell_type": "code",
   "execution_count": 36,
   "metadata": {},
   "outputs": [],
   "source": [
    "#split the dataset into train and validation\n",
    "X_train, X_valid, Y_train, Y_valid = train_test_split(X, y, test_size = 0.2, random_state=123)\n",
    "\n",
    "#Handling the Unbalanced dataset\n",
    "sm = SMOTE(random_state=42, ratio=1.0)\n",
    "X_balanced_train, Y_balanced_train = sm.fit_resample(X_train, Y_train)\n",
    "X_balanced_train = pd.DataFrame(X_balanced_train, columns=['V1', 'V2', 'V3', 'V4', 'V5', 'V6', 'V7'])\n",
    "Y_balanced_train = pd.Series(Y_balanced_train)"
   ]
  },
  {
   "cell_type": "code",
   "execution_count": 38,
   "metadata": {},
   "outputs": [],
   "source": [
    "def f1_eval(y_pred, dtrain):\n",
    "    y_true = dtrain.get_label()\n",
    "    err = 1-f1_score(y_true, np.round(y_pred))\n",
    "    return 'f1_err', err"
   ]
  },
  {
   "cell_type": "code",
   "execution_count": 39,
   "metadata": {},
   "outputs": [
    {
     "name": "stdout",
     "output_type": "stream",
     "text": [
      "[0]\tvalidation_0-error:0.268478\tvalidation_0-f1_err:0.934747\n",
      "Multiple eval metrics have been passed: 'validation_0-f1_err' will be used for early stopping.\n",
      "\n",
      "Will train until validation_0-f1_err hasn't improved in 10 rounds.\n",
      "[10]\tvalidation_0-error:0.268478\tvalidation_0-f1_err:0.934747\n",
      "Stopping. Best iteration:\n",
      "[0]\tvalidation_0-error:0.268478\tvalidation_0-f1_err:0.934747\n",
      "\n"
     ]
    },
    {
     "data": {
      "text/plain": [
       "XGBClassifier(base_score=0.5, booster='gbtree', colsample_bylevel=1,\n",
       "              colsample_bytree=1, gamma=0, learning_rate=0.001,\n",
       "              max_delta_step=0, max_depth=5, min_child_weight=1, missing=None,\n",
       "              n_estimators=1000, n_jobs=1, nthread=None,\n",
       "              objective='binary:logistic', random_state=123, reg_alpha=0,\n",
       "              reg_lambda=1, scale_pos_weight=1, seed=None, silent=True,\n",
       "              subsample=1)"
      ]
     },
     "execution_count": 39,
     "metadata": {},
     "output_type": "execute_result"
    }
   ],
   "source": [
    "xgb_1 = XGBClassifier(n_estimators=1000, max_depth=5, learning_rate = 0.001, random_state=123)\n",
    "xgb_1.fit(X=X_balanced_train, y=Y_balanced_train.values.ravel(), eval_set=[(X_valid, Y_valid)], eval_metric=f1_eval, early_stopping_rounds=10, verbose=10)"
   ]
  },
  {
   "cell_type": "code",
   "execution_count": 40,
   "metadata": {},
   "outputs": [],
   "source": [
    "def promotion_strategy(df):\n",
    "    '''\n",
    "    INPUT \n",
    "    df - a dataframe with *only* the columns V1 - V7 (same as train_data)\n",
    "\n",
    "    OUTPUT\n",
    "    promotion_df - np.array with the values\n",
    "                   'Yes' or 'No' related to whether or not an \n",
    "                   individual should recieve a promotion \n",
    "                   should be the length of df.shape[0]\n",
    "                \n",
    "    Ex:\n",
    "    INPUT: df\n",
    "    \n",
    "    V1\tV2\t  V3\tV4\tV5\tV6\tV7\n",
    "    2\t30\t-1.1\t1\t1\t3\t2\n",
    "    3\t32\t-0.6\t2\t3\t2\t2\n",
    "    2\t30\t0.13\t1\t1\t4\t2\n",
    "    \n",
    "    OUTPUT: promotion\n",
    "    \n",
    "    array(['Yes', 'Yes', 'No'])\n",
    "    indicating the first two users would recieve the promotion and \n",
    "    the last should not.\n",
    "    '''\n",
    "    \n",
    "    test = df\n",
    "    \n",
    "    preds = xgb_1.predict(test)\n",
    "    promotion = []\n",
    "    for pred in preds:\n",
    "        if pred:\n",
    "            promotion.append('Yes')\n",
    "        else:\n",
    "            promotion.append('No')\n",
    "    promotion = np.array(promotion)\n",
    "    \n",
    "    \n",
    "    return promotion"
   ]
  },
  {
   "cell_type": "code",
   "execution_count": 41,
   "metadata": {},
   "outputs": [
    {
     "name": "stdout",
     "output_type": "stream",
     "text": [
      "Nice job!  See how well your strategy worked on our test data below!\n",
      "\n",
      "Your irr with this strategy is 0.0188.\n",
      "\n",
      "Your nir with this strategy is 189.00.\n",
      "We came up with a model with an irr of 0.0188 and an nir of 189.45 on the test set.\n",
      "\n",
      " How did you do?\n"
     ]
    },
    {
     "data": {
      "text/plain": [
       "(0.018752758431748714, 189.0)"
      ]
     },
     "execution_count": 41,
     "metadata": {},
     "output_type": "execute_result"
    }
   ],
   "source": [
    "test_results(promotion_strategy)"
   ]
  },
  {
   "cell_type": "code",
   "execution_count": null,
   "metadata": {},
   "outputs": [],
   "source": []
  }
 ],
 "metadata": {
  "kernelspec": {
   "display_name": "Python 3",
   "language": "python",
   "name": "python3"
  },
  "language_info": {
   "codemirror_mode": {
    "name": "ipython",
    "version": 3
   },
   "file_extension": ".py",
   "mimetype": "text/x-python",
   "name": "python",
   "nbconvert_exporter": "python",
   "pygments_lexer": "ipython3",
   "version": "3.6.12"
  }
 },
 "nbformat": 4,
 "nbformat_minor": 2
}
